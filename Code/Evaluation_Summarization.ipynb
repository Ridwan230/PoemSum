{
  "nbformat": 4,
  "nbformat_minor": 0,
  "metadata": {
    "colab": {
      "provenance": [],
      "gpuType": "T4"
    },
    "kernelspec": {
      "name": "python3",
      "display_name": "Python 3"
    },
    "language_info": {
      "name": "python"
    },
    "accelerator": "GPU"
  },
  "cells": [
    {
      "cell_type": "code",
      "execution_count": null,
      "metadata": {
        "id": "vHxR-vIxBy2V"
      },
      "outputs": [],
      "source": [
        "!pip install evaluate rouge_score bert_score --quiet"
      ]
    },
    {
      "cell_type": "code",
      "source": [
        "import pandas as pd\n",
        "test_pred_df = pd.read_csv('',encoding='latin-1') #Enter location of the prediction file in the quotes"
      ],
      "metadata": {
        "id": "rJVjdfRvCq4M"
      },
      "execution_count": null,
      "outputs": []
    },
    {
      "cell_type": "code",
      "source": [
        "import evaluate\n",
        "rouge = evaluate.load('rouge')\n",
        "predictions = test_pred_df['pred'].tolist()\n",
        "references = test_pred_df['text'].tolist()\n",
        "results = rouge.compute(predictions=predictions,\n",
        "                         references=references)\n",
        "print(results)"
      ],
      "metadata": {
        "id": "AUzbe6gJB9_P"
      },
      "execution_count": null,
      "outputs": []
    },
    {
      "cell_type": "code",
      "source": [
        "from evaluate import load\n",
        "bertscore = load(\"bertscore\")\n",
        "predictions = test_pred_df['pred'].tolist()\n",
        "references = test_pred_df['text'].tolist()\n",
        "results = bertscore.compute(predictions=predictions, references=references, lang=\"en\")\n",
        "print(results)"
      ],
      "metadata": {
        "id": "SQO8zVpSWmyr"
      },
      "execution_count": null,
      "outputs": []
    },
    {
      "cell_type": "code",
      "source": [
        "import statistics\n",
        "statistics.mean(results['f1'])"
      ],
      "metadata": {
        "id": "zTi54DBcb6J1"
      },
      "execution_count": null,
      "outputs": []
    }
  ]
}